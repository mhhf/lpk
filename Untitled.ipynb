{
 "cells": [
  {
   "cell_type": "markdown",
   "metadata": {},
   "source": [
    "\n",
    "    \n",
    "### Kassen\n",
    "\n",
    "**Spendendose** soll einen Puffer fuer kommunalausgaben(Bier, Holz und Wandfarbe, Saunabau, Huener Polizeibestechung, teile davon notfalls in LVL2 Kasse) bilden und wuerd in der langfristigen buchhaltung nicht fest eingeplant.\n",
    "\n",
    "**Kasse** beinhaltet den harten Puffer `P`, e.g. einen Puffer fuer Modernisierung, Ausbau und weitere Ausgaben und den cashflow - sammelt alle Beitraege von LVL1+ ein und bezahlt alle ausstehenden Rechnungen.\n",
    "\n",
    "\n",
    "## Rollen\n",
    "\n",
    "### **Level 0** - LPK Freunde\n",
    "\n",
    "**Bedingungen**\n",
    "Mitgliedsbeitrag 1 EUR - X EUR in die Spendendose\n",
    "\n",
    "**Rechte**\n",
    "LPK Freunde sind immer herzlich willkommen uns zu besuchen und sachen auf dem Grundstueck zu wuppen. Ob Gaertnern, beim Streichen helfen und nur Grillen - sie sind auf den Kommunalflaechen immer gerne willkommen. Sie kriegen ein schluessel fuer das Haupttor und koennen auch alleine hin uns sich auf der wiese sonnen, ihnen steht jedoch kein privater berreich zu und es wird erwartet, dass sie dort keine eigene veranstaltungen machen. Sie koennen als meist 'stumme Teilnehmer' am grossen plaenum teilnehmen.\n",
    "\n",
    "Mitglieder koennen \"eintreten\" und \"austreten\" wann sie wollen. Ob jemand ein LPK Freund werden darf wird jedoch einstimmig in Level 1 entschieden.\n",
    "Mitgliendsbeitrag von Freunden ist eine \"Spende\" und diese haben keinen Anspruch auf erstattung. Es wahre jedoch cool wenn der Betrag Konsistent gezahlt wird. Sobald der Betrag 'fest' X einholt oder ueberschreitet kriegt ein Freund ein LVL UP zum Laubenpieper oder Core.\n",
    "\n",
    "**Pflichten**\n",
    "\n",
    "Sie muessen nichts leisten, koennen jedoch gerne helfen wo sie Wollen oder Freiwillig eine Aufgabe oder ein Amt uebernehmen.\n",
    "\n",
    "\n",
    "Kandidaten: Erik, Lea, Ole, Sabi, Valle, Meibert, Katlen, Tom, ...\n",
    "\n",
    "### **Level 1** - Laubenpieper\n",
    "\n",
    "**Bedingungen**\n",
    "LPK freund mit Mitgliedsbeitrag von X EUR in die Kasse\n",
    "\n",
    "**Rechte**\n",
    "Laubenpieper sind vollwertige Mitglieder*innin. Sie erhalten Schluessel zum Grundstueck und Kommunalflaechen und sollten am Grossen Plaenum teilnehmen (e.g. je Quartal) und mitbestimmen. Temopraere Private Berreiche - e.g. Besuch mit dem Wohnwagen uebers wochenende und eigene kleine veranstaltungen werden geduldet.\n",
    "\n",
    "**Pflichten**\n",
    "Sie haben kein festes Mandat, es waehre jedoch cool, wenn sie sich irgenwie and den anstehenden notwendigen Arbeiten beteiligen wuerden.\n",
    "\n",
    "Kandidaten: Erik?, Lea?, Katja?, Rieke?,  \n",
    "\n",
    "### **Level 2** - LPK Core\n",
    "\n",
    "**Bedingungen**\n",
    "LPK Freund mit einem Mitgliedsbeitrag von ueber X EUR in die Kasse\n",
    "(kann auch durch EA erwerb vom LVL1 aufgestuft werden)\n",
    "\n",
    "**Rechte**\n",
    "Sie erhalten relativ zum geleisteten Beitrag **Eigentumsanteile** (e.g. Betrag - X je Monat) am grundstueck. Erhalten private berreiche je nach geleisteten Mitgleidsbeitrag und \"konkurrenz\". Bekommen alle Schluessel zu kommunalen Berreichen, sowie besonderen Berreichen (e.g. Pumpenhaus).\n",
    "\n",
    "**Pflichten**\n",
    "\n",
    "Der Core ist die legislative und judikative, sowie teils die executieve die sich auch auf lvl 0 und 1 verteilt. Sie Muessen an mehr als 50% der kleinen Plena Teilnehmen (e.g. ein mal je ~4-8 Wochen) in dem die meisten Entscheidungen getroffen werden. Sie muss auch die Haupt-Finanzen und Buchhaltung ueberblicken und managen: e.g. die Parameter X, Y, Z setzen, insolvenz ausrufen, notwendige aufgaben verteilen, ausgaben Bewilligen. Allgemein die Gesundheit des \"Projektes\" ueberblicken: Geht es allen gut? Bauten und wartungen vereinbaren, streitigkeiten klaeren, etc.\n",
    "\n",
    "Finanziell sollte das Ziel die Folgenden Prioritaeten haben:\n",
    "1.   Laufende Kosten decken\n",
    "2.1. in 25 Jahren sollten die EA von den Oligarchen Denis + Joni < 50% sein\n",
    "2.2. in t - `Z` Jahren sollten alle EA von Mitglieder*innen von LVL 1 und 2 die ausgetreten sind, ausbezahlt werden\n",
    "3.   Hinreichend Spasss haben\n",
    "4.   Notwendinge und wuenschenswerte Wartungen und Erweiterungen Finanzieren\n",
    "5.   Maximalen Spasss haben\n",
    "\n",
    "Wenn 1, 2 oder 3 nicht langfristig und hinreichend garantiert werden kann, muss \"insolvenz\" ausgerufen werden und das Grundstueck verkauft. Um den verkauf muss sich der Core kuemmern. Verkaufspreis wird relativ zu den EA ausbezahlt.\n",
    "Wenn 1, 2 und 3 langfristig garantiert werden kann, kann von LVL 2 ein System einfuehren, wie mit bestimmter Arbeit EA erworben werden koennen.\n",
    "\n",
    "Regiert ueber die Parameter X (e.g. 100EUR), Y (e.g. 15-20%), Z (e.g. 10 Jahre) \n",
    "\n",
    "X muss so gewaehlt werden, dass wir die laufende Nutzungskosten decken koennen, waehrend wir versuchen die meisten leute aufzuleveln.\n",
    "\n",
    "Kandidaten: \n",
    "   jetzt   Heinrich\n",
    "   bald    Nico?, Katja?\n",
    "   spaeter Sabi, Ole, Lea, Erik, Rike\n",
    "\n",
    "###  **Level 3** - LPK Oligarchen\n",
    "\n",
    "**Bedingungen**\n",
    "Mitglieder die einen Prozentsatz (relativ oder absolut) der Eigentumsanteile Y ueberschreiten.\n",
    "\n",
    "**Rechte**\n",
    "Oligarche werden mit in das Grundbuch aufgenommen.\n",
    "\n",
    "**Pflichten**\n",
    "Sie verantworten sich fuer grosse entscheidungen die legale implikationen haben und haben dadurch veto recht an entscheidungen die in Level 2 getroffen werden. (e.g. abriss oder neubau von heusern, grosse festivals, vermietung und komerzielle nutzung des grundstueckes durch externe gruppen). Sie haben auch private treffen von den niemand weis, weil sie so geheim sind. Sie haben den grossen roten Knopf mit dem sie im Notfall insolvenz ausrufen koennen.\n",
    "\n",
    "Kandidaten: Denis, Joni"
   ]
  },
  {
   "cell_type": "markdown",
   "metadata": {},
   "source": [
    "## Rechnungen\n",
    "\n",
    "### Grundsteuer\n",
    "\n",
    "Grundsteuer berechnung auf basis von:\n",
    "https://grundsteuer.biz/Brandenburg/Schorfheide.html"
   ]
  },
  {
   "cell_type": "markdown",
   "metadata": {},
   "source": [
    "**Flaechennutzungsplan** als **Landwirtschaftsflaeche**\n",
    "\n",
    "**Bebaungsplan** nach § 35 BauGB\n",
    "\n"
   ]
  },
  {
   "cell_type": "code",
   "execution_count": 1,
   "metadata": {},
   "outputs": [],
   "source": [
    "grundstuecksgroesse = 16687 # EUR\n",
    "efh_groesse = 154 # QM\n",
    "zfh_groesse = 230 # QM\n",
    "habensatz_a = 300 \n",
    "habensatz_b = 390 \n",
    "grundsteuermesszahl = 0.35 # %  TODO - why?\n",
    "zuschlag = 385000\n",
    "modernisierungskosten = 120000\n",
    "happy_puffer = 100000\n",
    "# TODO - wert wird anhand von 1935 berechnet - um ein vielfaches kleiner e.g. 20%\n",
    "einheitswert = zuschlag * 0.2 # EUR  \n",
    "grundsteuermessbetrag = grundsteuermesszahl * einheitswert / 100 # EUR\n",
    "grundsteuer = grundsteuermessbetrag * habensatz_b / 100\n",
    "grunderwerbssteuer = 6.5 # %\n",
    "marklerprovision = 7.14 # %\n",
    "notar_grundbuch_kosten = 1.5 # %\n",
    "kaufnebenkosten = (grunderwerbssteuer + marklerprovision + notar_grundbuch_kosten) * zuschlag / 100"
   ]
  },
  {
   "cell_type": "code",
   "execution_count": 2,
   "metadata": {},
   "outputs": [
    {
     "name": "stdout",
     "output_type": "stream",
     "text": [
      "kaufnebenkosten  58289.0\n",
      "gesamtkosten    443289.0\n",
      "kapitalbedarf   663289.0\n"
     ]
    }
   ],
   "source": [
    "print(\"kaufnebenkosten \", kaufnebenkosten)\n",
    "print(\"gesamtkosten   \", kaufnebenkosten + zuschlag)\n",
    "print(\"kapitalbedarf  \", kaufnebenkosten + zuschlag + modernisierungskosten + happy_puffer)"
   ]
  },
  {
   "cell_type": "code",
   "execution_count": 3,
   "metadata": {},
   "outputs": [
    {
     "name": "stdout",
     "output_type": "stream",
     "text": [
      "essensielle nebenkosten 1051.05\n",
      "bewohnte nebenkosten 10371.05\n"
     ]
    }
   ],
   "source": [
    "# https://kostencheck.de/muellabfuhr-kosten-jaehrlich\n",
    "muellabfuhr = 800 # EUR/jahr\n",
    "# strassenreinigung = 300 #EUR/jahr\n",
    "wasser_abwasser = 800 #EUR/jahr\n",
    "heizung = 4000 #EUR/jahr\n",
    "strohm = 3000 #EUR/jahr\n",
    "# versicherungen\n",
    "# erschließungskosten\n",
    "telefon_internet = 60 * 12 #EUR/jahr\n",
    "nebenkosten_summe = grundsteuer + muellabfuhr + wasser_abwasser + heizung + strohm + telefon_internet\n",
    "print(\"essensielle nebenkosten\", grundsteuer)\n",
    "print(\"bewohnte nebenkosten\", nebenkosten_summe)"
   ]
  },
  {
   "cell_type": "code",
   "execution_count": 4,
   "metadata": {},
   "outputs": [],
   "source": [
    "nebenkosten_qmj = 38 # EUR/(qm * jahr)\n",
    "nebenkosten = nebenkosten_qmj * (efh_groesse + zfh_groesse)"
   ]
  },
  {
   "cell_type": "code",
   "execution_count": 5,
   "metadata": {
    "scrolled": true
   },
   "outputs": [
    {
     "name": "stdout",
     "output_type": "stream",
     "text": [
      "14592\n"
     ]
    }
   ],
   "source": [
    "print(nebenkosten) # sainity check - alle hauser bewohnt"
   ]
  }
 ],
 "metadata": {
  "kernelspec": {
   "display_name": "Python 3",
   "language": "python",
   "name": "python3"
  },
  "language_info": {
   "codemirror_mode": {
    "name": "ipython",
    "version": 3
   },
   "file_extension": ".py",
   "mimetype": "text/x-python",
   "name": "python",
   "nbconvert_exporter": "python",
   "pygments_lexer": "ipython3",
   "version": "3.7.7"
  }
 },
 "nbformat": 4,
 "nbformat_minor": 4
}
